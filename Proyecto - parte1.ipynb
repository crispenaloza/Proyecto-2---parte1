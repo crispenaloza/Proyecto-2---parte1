{
 "cells": [
  {
   "cell_type": "code",
   "execution_count": 2,
   "id": "008d5106",
   "metadata": {},
   "outputs": [],
   "source": [
    "import pandas as pd\n",
    "import numpy as np\n",
    "from bs4 import BeautifulSoup\n",
    "import requests\n",
    "import matplotlib.pyplot as plt\n",
    "import seaborn as sb"
   ]
  },
  {
   "cell_type": "code",
   "execution_count": 3,
   "id": "94dae2c8",
   "metadata": {
    "scrolled": true
   },
   "outputs": [
    {
     "data": {
      "text/html": [
       "<div>\n",
       "<style scoped>\n",
       "    .dataframe tbody tr th:only-of-type {\n",
       "        vertical-align: middle;\n",
       "    }\n",
       "\n",
       "    .dataframe tbody tr th {\n",
       "        vertical-align: top;\n",
       "    }\n",
       "\n",
       "    .dataframe thead th {\n",
       "        text-align: right;\n",
       "    }\n",
       "</style>\n",
       "<table border=\"1\" class=\"dataframe\">\n",
       "  <thead>\n",
       "    <tr style=\"text-align: right;\">\n",
       "      <th></th>\n",
       "      <th>name</th>\n",
       "      <th>type</th>\n",
       "      <th>region</th>\n",
       "      <th>owner</th>\n",
       "      <th>typology</th>\n",
       "      <th>typology_des</th>\n",
       "      <th>investment</th>\n",
       "      <th>entry_date</th>\n",
       "      <th>state</th>\n",
       "      <th>qualification_date</th>\n",
       "      <th>id_project</th>\n",
       "      <th>latitude</th>\n",
       "      <th>longitude</th>\n",
       "      <th>n_docs</th>\n",
       "      <th>n_addendum</th>\n",
       "      <th>n_participatory</th>\n",
       "      <th>description</th>\n",
       "      <th>main_url</th>\n",
       "    </tr>\n",
       "  </thead>\n",
       "  <tbody>\n",
       "    <tr>\n",
       "      <th>0</th>\n",
       "      <td>Instalación Fibra Optica (desde Cerro Chapiqui...</td>\n",
       "      <td>DIA</td>\n",
       "      <td>Decimoquinta</td>\n",
       "      <td>Entel Chile S.A.</td>\n",
       "      <td>p</td>\n",
       "      <td>Ejecución de obras, programas o actividades en...</td>\n",
       "      <td>3.00</td>\n",
       "      <td>1997-07-31</td>\n",
       "      <td>Aprobado</td>\n",
       "      <td>1997-10-14</td>\n",
       "      <td>10</td>\n",
       "      <td>-18.343267</td>\n",
       "      <td>-69.537667</td>\n",
       "      <td>2</td>\n",
       "      <td>0</td>\n",
       "      <td>0</td>\n",
       "      <td>NaN</td>\n",
       "      <td>https://seia.sea.gob.cl/expediente/expediente....</td>\n",
       "    </tr>\n",
       "    <tr>\n",
       "      <th>1</th>\n",
       "      <td>Planta Minera Doña Leonor</td>\n",
       "      <td>EIA</td>\n",
       "      <td>Cuarta</td>\n",
       "      <td>NaN</td>\n",
       "      <td>i4</td>\n",
       "      <td>Proyecto de desarrollo minero sobre 5000 tons/...</td>\n",
       "      <td>0.15</td>\n",
       "      <td>1995-12-11</td>\n",
       "      <td>Aprobado</td>\n",
       "      <td>1996-06-04</td>\n",
       "      <td>13</td>\n",
       "      <td>-31.723339</td>\n",
       "      <td>-70.935702</td>\n",
       "      <td>6</td>\n",
       "      <td>0</td>\n",
       "      <td>0</td>\n",
       "      <td>NaN</td>\n",
       "      <td>https://seia.sea.gob.cl/expediente/expediente....</td>\n",
       "    </tr>\n",
       "    <tr>\n",
       "      <th>2</th>\n",
       "      <td>Planta de Tratamiento de Aguas Servidas Median...</td>\n",
       "      <td>DIA</td>\n",
       "      <td>Quinta</td>\n",
       "      <td>Ilustre municipalidad de nogales</td>\n",
       "      <td>o4</td>\n",
       "      <td>Plantas de tratamiento de aguas de origen domi...</td>\n",
       "      <td>0.44</td>\n",
       "      <td>1997-09-01</td>\n",
       "      <td>Aprobado</td>\n",
       "      <td>1997-12-22</td>\n",
       "      <td>14</td>\n",
       "      <td>-32.697018</td>\n",
       "      <td>-71.210925</td>\n",
       "      <td>3</td>\n",
       "      <td>0</td>\n",
       "      <td>0</td>\n",
       "      <td>NaN</td>\n",
       "      <td>https://seia.sea.gob.cl/expediente/expediente....</td>\n",
       "    </tr>\n",
       "    <tr>\n",
       "      <th>3</th>\n",
       "      <td>Relleno Sanitario Sector Colihues - La Yesca</td>\n",
       "      <td>EIA</td>\n",
       "      <td>Sexta</td>\n",
       "      <td>Ilustre Municipalidad de Rancagua</td>\n",
       "      <td>o5</td>\n",
       "      <td>Plantas de tratamiento y/o disposición de resi...</td>\n",
       "      <td>0.17</td>\n",
       "      <td>1996-05-07</td>\n",
       "      <td>Aprobado</td>\n",
       "      <td>1996-11-15</td>\n",
       "      <td>15</td>\n",
       "      <td>-34.231782</td>\n",
       "      <td>-70.704146</td>\n",
       "      <td>7</td>\n",
       "      <td>0</td>\n",
       "      <td>0</td>\n",
       "      <td>NaN</td>\n",
       "      <td>https://seia.sea.gob.cl/expediente/expediente....</td>\n",
       "    </tr>\n",
       "  </tbody>\n",
       "</table>\n",
       "</div>"
      ],
      "text/plain": [
       "                                                name type        region  \\\n",
       "0  Instalación Fibra Optica (desde Cerro Chapiqui...  DIA  Decimoquinta   \n",
       "1                          Planta Minera Doña Leonor  EIA        Cuarta   \n",
       "2  Planta de Tratamiento de Aguas Servidas Median...  DIA        Quinta   \n",
       "3       Relleno Sanitario Sector Colihues - La Yesca  EIA         Sexta   \n",
       "\n",
       "                               owner typology  \\\n",
       "0                   Entel Chile S.A.        p   \n",
       "1                                NaN       i4   \n",
       "2   Ilustre municipalidad de nogales       o4   \n",
       "3  Ilustre Municipalidad de Rancagua       o5   \n",
       "\n",
       "                                        typology_des  investment  entry_date  \\\n",
       "0  Ejecución de obras, programas o actividades en...        3.00  1997-07-31   \n",
       "1  Proyecto de desarrollo minero sobre 5000 tons/...        0.15  1995-12-11   \n",
       "2  Plantas de tratamiento de aguas de origen domi...        0.44  1997-09-01   \n",
       "3  Plantas de tratamiento y/o disposición de resi...        0.17  1996-05-07   \n",
       "\n",
       "      state qualification_date  id_project   latitude  longitude  n_docs  \\\n",
       "0  Aprobado         1997-10-14          10 -18.343267 -69.537667       2   \n",
       "1  Aprobado         1996-06-04          13 -31.723339 -70.935702       6   \n",
       "2  Aprobado         1997-12-22          14 -32.697018 -71.210925       3   \n",
       "3  Aprobado         1996-11-15          15 -34.231782 -70.704146       7   \n",
       "\n",
       "   n_addendum  n_participatory description  \\\n",
       "0           0                0         NaN   \n",
       "1           0                0         NaN   \n",
       "2           0                0         NaN   \n",
       "3           0                0         NaN   \n",
       "\n",
       "                                            main_url  \n",
       "0  https://seia.sea.gob.cl/expediente/expediente....  \n",
       "1  https://seia.sea.gob.cl/expediente/expediente....  \n",
       "2  https://seia.sea.gob.cl/expediente/expediente....  \n",
       "3  https://seia.sea.gob.cl/expediente/expediente....  "
      ]
     },
     "execution_count": 3,
     "metadata": {},
     "output_type": "execute_result"
    }
   ],
   "source": [
    "df=pd.read_csv(\"C:/Users/crist/Downloads/projects.csv\")\n",
    "df.head(4)"
   ]
  },
  {
   "cell_type": "markdown",
   "id": "85241fbe",
   "metadata": {},
   "source": [
    "fuente= https://www.kaggle.com/datasets/vcaquilpan/chilean-projects"
   ]
  },
  {
   "cell_type": "markdown",
   "id": "a6b85ddb",
   "metadata": {},
   "source": [
    "# Preguntas"
   ]
  },
  {
   "cell_type": "markdown",
   "id": "40b2559b",
   "metadata": {},
   "source": [
    "## 1.1¿Qué tipo de preguntas sobre ciencia de datos puedes responder en función de tus datos?\n",
    "Se puede responder la cantidad de proyectos que has sido rechazado o aprobado, tambien la relación entre EIA y DIA. La evolución de los proyecto a lo largos de los año o region\n"
   ]
  },
  {
   "cell_type": "markdown",
   "id": "e23d1c5f",
   "metadata": {},
   "source": [
    "## 1.2 ¿Es esta una tarea supervisada o no supervisada?\n",
    "La tarea es de caracter supervisadom ya que tenemos una columna target\n"
   ]
  },
  {
   "cell_type": "markdown",
   "id": "adb5af15",
   "metadata": {},
   "source": [
    "## 1.3 Si se trata de una tarea supervisada, ¿es una tarea de regresión o clasificación?\n",
    "Es de clasificación, ya que se busca predecir variables categoricas\n"
   ]
  },
  {
   "cell_type": "markdown",
   "id": "68359dd5",
   "metadata": {},
   "source": [
    "## 1.3 ¿Qué tan limpios están tus datos?\n",
    "En el dataset no hay duplicados, pero hay nulos que se trataran de diversas formas\n"
   ]
  },
  {
   "cell_type": "markdown",
   "id": "8257a387",
   "metadata": {},
   "source": [
    "## 1.4 ¿Qué problemas crees que pueden surgir?\n",
    "La variaedad de las clases en la columna objetivo, donde hay muy pocas clases que representan algunas clases"
   ]
  },
  {
   "cell_type": "code",
   "execution_count": null,
   "id": "9bb52900",
   "metadata": {},
   "outputs": [],
   "source": []
  }
 ],
 "metadata": {
  "kernelspec": {
   "display_name": "Python 3 (ipykernel)",
   "language": "python",
   "name": "python3"
  },
  "language_info": {
   "codemirror_mode": {
    "name": "ipython",
    "version": 3
   },
   "file_extension": ".py",
   "mimetype": "text/x-python",
   "name": "python",
   "nbconvert_exporter": "python",
   "pygments_lexer": "ipython3",
   "version": "3.9.7"
  }
 },
 "nbformat": 4,
 "nbformat_minor": 5
}
